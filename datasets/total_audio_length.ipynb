{
 "cells": [
  {
   "cell_type": "code",
   "execution_count": null,
   "metadata": {},
   "outputs": [],
   "source": [
    "# ONLY RUN THIS AFTER DELETING DUPLICATES ETC."
   ]
  },
  {
   "cell_type": "code",
   "execution_count": 4,
   "metadata": {},
   "outputs": [
    {
     "data": {
      "text/plain": [
       "112861"
      ]
     },
     "execution_count": 4,
     "metadata": {},
     "output_type": "execute_result"
    }
   ],
   "source": [
    "import os\n",
    "\n",
    "train_audio_path = \"birdsongs-combined/train_audio/\"\n",
    "\n",
    "folders = os.listdir(train_audio_path)\n",
    "\n",
    "audio_file_paths = []\n",
    "for folder in folders:\n",
    "    folder_path = train_audio_path + folder + \"/\"    \n",
    "    for file in os.listdir(folder_path):\n",
    "        audio_file_paths.append(folder_path + file)"
   ]
  },
  {
   "cell_type": "code",
   "execution_count": 48,
   "metadata": {},
   "outputs": [
    {
     "name": "stdout",
     "output_type": "stream",
     "text": [
      "Defaulting to user installation because normal site-packages is not writeable\n",
      "Requirement already satisfied: mutagen in c:\\users\\bradl\\appdata\\roaming\\python\\python312\\site-packages (1.47.0)\n",
      "Collecting tqdm\n",
      "  Using cached tqdm-4.67.1-py3-none-any.whl.metadata (57 kB)\n",
      "Requirement already satisfied: colorama in c:\\users\\bradl\\appdata\\roaming\\python\\python312\\site-packages (from tqdm) (0.4.6)\n",
      "Using cached tqdm-4.67.1-py3-none-any.whl (78 kB)\n",
      "Installing collected packages: tqdm\n",
      "Successfully installed tqdm-4.67.1\n"
     ]
    },
    {
     "name": "stderr",
     "output_type": "stream",
     "text": [
      "\n",
      "[notice] A new release of pip is available: 25.1.1 -> 25.2\n",
      "[notice] To update, run: python.exe -m pip install --upgrade pip\n"
     ]
    }
   ],
   "source": [
    "!pip install mutagen tqdm"
   ]
  },
  {
   "cell_type": "code",
   "execution_count": 51,
   "metadata": {},
   "outputs": [
    {
     "name": "stderr",
     "output_type": "stream",
     "text": [
      "100%|██████████| 112861/112861 [17:00<00:00, 110.56it/s]\n"
     ]
    }
   ],
   "source": [
    "from tqdm import tqdm\n",
    "from mutagen.mp3 import MP3\n",
    "from mutagen.oggvorbis import OggVorbis\n",
    "\n",
    "total_file_length_seconds = 0.0\n",
    "\n",
    "for file in tqdm(audio_file_paths):\n",
    "    if file[-3:] == \"mp3\":\n",
    "        audio_mp3 = MP3(file)\n",
    "\n",
    "        total_file_length_seconds += audio_mp3.info.length\n",
    "    elif file[-3:] == \"ogg\":\n",
    "        audio_ogg = OggVorbis(file)\n",
    "\n",
    "        total_file_length_seconds += audio_ogg.info.length"
   ]
  },
  {
   "cell_type": "code",
   "execution_count": 53,
   "metadata": {},
   "outputs": [
    {
     "name": "stdout",
     "output_type": "stream",
     "text": [
      "5653005.047680845 seconds\n",
      "94216.75079468075 minutes\n",
      "1570.2791799113459 hours of audio\n"
     ]
    }
   ],
   "source": [
    "total_file_length_minutes = total_file_length_seconds / 60.0\n",
    "total_file_length_hours = total_file_length_minutes / 60.0\n",
    "\n",
    "print(total_file_length_seconds, \"seconds\")\n",
    "print(total_file_length_minutes, \"minutes\")\n",
    "print(total_file_length_hours, \"hours of audio\")"
   ]
  }
 ],
 "metadata": {
  "kernelspec": {
   "display_name": "Python 3",
   "language": "python",
   "name": "python3"
  },
  "language_info": {
   "codemirror_mode": {
    "name": "ipython",
    "version": 3
   },
   "file_extension": ".py",
   "mimetype": "text/x-python",
   "name": "python",
   "nbconvert_exporter": "python",
   "pygments_lexer": "ipython3",
   "version": "3.12.1"
  }
 },
 "nbformat": 4,
 "nbformat_minor": 2
}
